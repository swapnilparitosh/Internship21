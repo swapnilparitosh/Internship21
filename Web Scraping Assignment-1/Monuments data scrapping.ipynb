{
 "cells": [
  {
   "cell_type": "code",
   "execution_count": 22,
   "id": "f18920e6",
   "metadata": {},
   "outputs": [],
   "source": [
    "import requests\n",
    "from bs4 import BeautifulSoup"
   ]
  },
  {
   "cell_type": "code",
   "execution_count": 23,
   "id": "7af68587",
   "metadata": {},
   "outputs": [
    {
     "data": {
      "text/plain": [
       "<Response [200]>"
      ]
     },
     "execution_count": 23,
     "metadata": {},
     "output_type": "execute_result"
    }
   ],
   "source": [
    "page=requests.get(\"https://www.puredestinations.co.uk/top-10-famous-monuments-to-visit-in-india/\")\n",
    "page"
   ]
  },
  {
   "cell_type": "code",
   "execution_count": 38,
   "id": "b5ec8502",
   "metadata": {},
   "outputs": [
    {
     "data": {
      "text/plain": [
       "<div class=\"blog--single__content column--3-4 u-spacing-third\">\n",
       "<h3 class=\"title title--heading\">Top 10 Famous Monuments to Visit In India</h3>\n",
       "<p>Rich in culture and diversity, India is home to some of the finest historical monuments in the world. Most recognised by the UNESCO World Heritage Site, the famous Indian monuments include the beautiful Taj Mahal, the sacred Golden Temple and the cultural site, Hawa Mahal. Discover and experience the magnificent insights into <a href=\"https://www.puredestinations.co.uk/destinations/asia/india/\" rel=\"noopener\" target=\"_blank\">India</a>’s rich heritage and ancient architecture. Read on for our list of the top must see historical monuments in India below.</p>\n",
       "<p><strong>Taj Mahal, Agra</strong></p>\n",
       "<p>Enlisted in the Seven Wonders of the World, The Taj Mahal is one of the most beautiful and famous buildings located in the city of Agra. This white marble monument was built by a Mughal Emperor called Shahajahan in memory of his beloved wife. Due to its amazing architecture and the history behind it, this world heritage site has become very popular to visit by all travellers and romantics from all over the world.</p>\n",
       "<p><img alt=\"taj-mahal-pd-blog\" class=\"alignnone size-full wp-image-36626 lazyload\" data-src=\"http://www.puredestinations.co.uk/wp-content/uploads/2016/11/TAJ-MAHAL-PD-BLOG.jpg\" data-srcset=\"https://www.puredestinations.co.uk/wp-content/uploads/2016/11/TAJ-MAHAL-PD-BLOG.jpg 800w, https://www.puredestinations.co.uk/wp-content/uploads/2016/11/TAJ-MAHAL-PD-BLOG-768x512.jpg 768w, https://www.puredestinations.co.uk/wp-content/uploads/2016/11/TAJ-MAHAL-PD-BLOG-300x200.jpg 300w\" height=\"533\" sizes=\"(max-width: 800px) 100vw, 800px\" src=\"data:image/gif;base64,R0lGODlhAQABAAAAACH5BAEKAAEALAAAAAABAAEAAAICTAEAOw==\" width=\"800\"/><noscript><img alt=\"taj-mahal-pd-blog\" class=\"alignnone size-full wp-image-36626\" height=\"533\" sizes=\"(max-width: 800px) 100vw, 800px\" src=\"http://www.puredestinations.co.uk/wp-content/uploads/2016/11/TAJ-MAHAL-PD-BLOG.jpg\" srcset=\"https://www.puredestinations.co.uk/wp-content/uploads/2016/11/TAJ-MAHAL-PD-BLOG.jpg 800w, https://www.puredestinations.co.uk/wp-content/uploads/2016/11/TAJ-MAHAL-PD-BLOG-768x512.jpg 768w, https://www.puredestinations.co.uk/wp-content/uploads/2016/11/TAJ-MAHAL-PD-BLOG-300x200.jpg 300w\" width=\"800\"/></noscript></p>\n",
       "<p><strong>Golden Temple (Harmandir Sahib), Amritsar </strong></p>\n",
       "<p>The holiest shrine and pilgrimage place located in Amritsar is The Golden Temple known as the Harmandir Sahib. This is the most famous and sacred Sikh Gurdwara in Punjab, <a href=\"https://www.puredestinations.co.uk/destinations/asia/india/\" rel=\"noopener\" target=\"_blank\">India</a>, adorned with rich history and gold gilded exterior. If you are interested in culture and history, be sure to visit this popular attraction in India.</p>\n",
       "<p><img alt=\"golden-temple-pd-blog\" class=\"alignnone size-full wp-image-36628 lazyload\" data-src=\"http://www.puredestinations.co.uk/wp-content/uploads/2016/11/Golden-Temple-PD-BLOG.jpg\" data-srcset=\"https://www.puredestinations.co.uk/wp-content/uploads/2016/11/Golden-Temple-PD-BLOG.jpg 800w, https://www.puredestinations.co.uk/wp-content/uploads/2016/11/Golden-Temple-PD-BLOG-768x512.jpg 768w, https://www.puredestinations.co.uk/wp-content/uploads/2016/11/Golden-Temple-PD-BLOG-300x200.jpg 300w\" height=\"533\" sizes=\"(max-width: 800px) 100vw, 800px\" src=\"data:image/gif;base64,R0lGODlhAQABAAAAACH5BAEKAAEALAAAAAABAAEAAAICTAEAOw==\" width=\"800\"/><noscript><img alt=\"golden-temple-pd-blog\" class=\"alignnone size-full wp-image-36628\" height=\"533\" sizes=\"(max-width: 800px) 100vw, 800px\" src=\"http://www.puredestinations.co.uk/wp-content/uploads/2016/11/Golden-Temple-PD-BLOG.jpg\" srcset=\"https://www.puredestinations.co.uk/wp-content/uploads/2016/11/Golden-Temple-PD-BLOG.jpg 800w, https://www.puredestinations.co.uk/wp-content/uploads/2016/11/Golden-Temple-PD-BLOG-768x512.jpg 768w, https://www.puredestinations.co.uk/wp-content/uploads/2016/11/Golden-Temple-PD-BLOG-300x200.jpg 300w\" width=\"800\"/></noscript></p>\n",
       "<p><strong>Meenakshi Temple, Madurai</strong></p>\n",
       "<p>Meenakshi Temple is situated on the Southern banks of Vaigai River in the temple city Madurai. This temple is dedicated to Parvati and her consort, Shiva and is visited by most Hindu and Tamil devotees and architectural lovers throughout the world. It is believed that this shrine houses 33,000 sculptures in its 14 gopurams. It’s no doubt one place to visit if you are impressed with art and cultural history.</p>\n",
       "<p><img alt=\"meenakshi-temple-pd-blog\" class=\"alignnone size-full wp-image-36630 lazyload\" data-src=\"http://www.puredestinations.co.uk/wp-content/uploads/2016/11/meenakshi-temple-PD-BLOG.jpg\" data-srcset=\"https://www.puredestinations.co.uk/wp-content/uploads/2016/11/meenakshi-temple-PD-BLOG.jpg 800w, https://www.puredestinations.co.uk/wp-content/uploads/2016/11/meenakshi-temple-PD-BLOG-768x512.jpg 768w, https://www.puredestinations.co.uk/wp-content/uploads/2016/11/meenakshi-temple-PD-BLOG-300x200.jpg 300w\" height=\"533\" sizes=\"(max-width: 800px) 100vw, 800px\" src=\"data:image/gif;base64,R0lGODlhAQABAAAAACH5BAEKAAEALAAAAAABAAEAAAICTAEAOw==\" width=\"800\"/><noscript><img alt=\"meenakshi-temple-pd-blog\" class=\"alignnone size-full wp-image-36630\" height=\"533\" sizes=\"(max-width: 800px) 100vw, 800px\" src=\"http://www.puredestinations.co.uk/wp-content/uploads/2016/11/meenakshi-temple-PD-BLOG.jpg\" srcset=\"https://www.puredestinations.co.uk/wp-content/uploads/2016/11/meenakshi-temple-PD-BLOG.jpg 800w, https://www.puredestinations.co.uk/wp-content/uploads/2016/11/meenakshi-temple-PD-BLOG-768x512.jpg 768w, https://www.puredestinations.co.uk/wp-content/uploads/2016/11/meenakshi-temple-PD-BLOG-300x200.jpg 300w\" width=\"800\"/></noscript></p>\n",
       "<p><strong>Mysore Palace, Mysore</strong></p>\n",
       "<p>The Mysore Palace is a famous historical monument in the city of Mysore in Karnataka. Commonly described as the City of Palaces, this is the most famous tourist attraction in <a href=\"https://www.puredestinations.co.uk/destinations/asia/india/\" rel=\"noopener\" target=\"_blank\">India</a> after the Taj Mahal. It is a sight not be missed with its spacious halls, lovely art paintings and Indo-Saracenic style architecture. Best time to visit is at night due to the astonishing illuminated lights covering the whole monument.</p>\n",
       "<p><img alt=\"mysore-palace-pd-blog\" class=\"alignnone size-full wp-image-36631 lazyload\" data-src=\"http://www.puredestinations.co.uk/wp-content/uploads/2016/11/Mysore-palace-PD-BLOG.jpg\" data-srcset=\"https://www.puredestinations.co.uk/wp-content/uploads/2016/11/Mysore-palace-PD-BLOG.jpg 800w, https://www.puredestinations.co.uk/wp-content/uploads/2016/11/Mysore-palace-PD-BLOG-768x512.jpg 768w, https://www.puredestinations.co.uk/wp-content/uploads/2016/11/Mysore-palace-PD-BLOG-300x200.jpg 300w\" height=\"533\" sizes=\"(max-width: 800px) 100vw, 800px\" src=\"data:image/gif;base64,R0lGODlhAQABAAAAACH5BAEKAAEALAAAAAABAAEAAAICTAEAOw==\" width=\"800\"/><noscript><img alt=\"mysore-palace-pd-blog\" class=\"alignnone size-full wp-image-36631\" height=\"533\" sizes=\"(max-width: 800px) 100vw, 800px\" src=\"http://www.puredestinations.co.uk/wp-content/uploads/2016/11/Mysore-palace-PD-BLOG.jpg\" srcset=\"https://www.puredestinations.co.uk/wp-content/uploads/2016/11/Mysore-palace-PD-BLOG.jpg 800w, https://www.puredestinations.co.uk/wp-content/uploads/2016/11/Mysore-palace-PD-BLOG-768x512.jpg 768w, https://www.puredestinations.co.uk/wp-content/uploads/2016/11/Mysore-palace-PD-BLOG-300x200.jpg 300w\" width=\"800\"/></noscript></p>\n",
       "<p><strong>Gateway of India, Mumbai</strong></p>\n",
       "<p>Even though Mumbai is famous for its Bollywood actors and movies, the most famous attraction in Mumbai is The Gateway of India. It is a popular gathering spot for locals, travellers, street vendors and photographers and is known as the Taj Mahal of Mumbai. The majestic monument was built to commemorate the visit of King George V and Queen Mary to Bombay. With so much fun and excitement this place is not to be missed with family or on your tour of India.</p>\n",
       "<p><img alt=\"gateway-to-india-pd-blog\" class=\"alignnone size-full wp-image-36632 lazyload\" data-src=\"http://www.puredestinations.co.uk/wp-content/uploads/2016/11/gateway-to-india-PD-BLOG.jpg\" data-srcset=\"https://www.puredestinations.co.uk/wp-content/uploads/2016/11/gateway-to-india-PD-BLOG.jpg 800w, https://www.puredestinations.co.uk/wp-content/uploads/2016/11/gateway-to-india-PD-BLOG-768x512.jpg 768w, https://www.puredestinations.co.uk/wp-content/uploads/2016/11/gateway-to-india-PD-BLOG-300x200.jpg 300w\" height=\"533\" sizes=\"(max-width: 800px) 100vw, 800px\" src=\"data:image/gif;base64,R0lGODlhAQABAAAAACH5BAEKAAEALAAAAAABAAEAAAICTAEAOw==\" width=\"800\"/><noscript><img alt=\"gateway-to-india-pd-blog\" class=\"alignnone size-full wp-image-36632\" height=\"533\" sizes=\"(max-width: 800px) 100vw, 800px\" src=\"http://www.puredestinations.co.uk/wp-content/uploads/2016/11/gateway-to-india-PD-BLOG.jpg\" srcset=\"https://www.puredestinations.co.uk/wp-content/uploads/2016/11/gateway-to-india-PD-BLOG.jpg 800w, https://www.puredestinations.co.uk/wp-content/uploads/2016/11/gateway-to-india-PD-BLOG-768x512.jpg 768w, https://www.puredestinations.co.uk/wp-content/uploads/2016/11/gateway-to-india-PD-BLOG-300x200.jpg 300w\" width=\"800\"/></noscript></p>\n",
       "<p><strong>Red Fort, New Delhi</strong></p>\n",
       "<p>Declared as the UNESCO’s World Heritage Site, Red Fort is located in the centre of beautiful Delhi. If you love learning about history and culture then this famous historic monument is a must see place to visit. Built by the Mughal Emperor, Shah Jahan in 1648, and housing a number of museums, its walls are built of red sandstone. The best time to visit is on Independence Day where the Prime Minister of India hoists the national flag at the Red Fort. End the day by heading to an Indian restaurant and enjoy the varieties of wonderful cuisines.</p>\n",
       "<p><img alt=\"red-fort-pd-blog\" class=\"alignnone size-full wp-image-36623 lazyload\" data-src=\"http://www.puredestinations.co.uk/wp-content/uploads/2016/11/red-fort-PD-BLOG.jpg\" data-srcset=\"https://www.puredestinations.co.uk/wp-content/uploads/2016/11/red-fort-PD-BLOG.jpg 800w, https://www.puredestinations.co.uk/wp-content/uploads/2016/11/red-fort-PD-BLOG-768x512.jpg 768w, https://www.puredestinations.co.uk/wp-content/uploads/2016/11/red-fort-PD-BLOG-300x200.jpg 300w\" height=\"533\" sizes=\"(max-width: 800px) 100vw, 800px\" src=\"data:image/gif;base64,R0lGODlhAQABAAAAACH5BAEKAAEALAAAAAABAAEAAAICTAEAOw==\" width=\"800\"/><noscript><img alt=\"red-fort-pd-blog\" class=\"alignnone size-full wp-image-36623\" height=\"533\" sizes=\"(max-width: 800px) 100vw, 800px\" src=\"http://www.puredestinations.co.uk/wp-content/uploads/2016/11/red-fort-PD-BLOG.jpg\" srcset=\"https://www.puredestinations.co.uk/wp-content/uploads/2016/11/red-fort-PD-BLOG.jpg 800w, https://www.puredestinations.co.uk/wp-content/uploads/2016/11/red-fort-PD-BLOG-768x512.jpg 768w, https://www.puredestinations.co.uk/wp-content/uploads/2016/11/red-fort-PD-BLOG-300x200.jpg 300w\" width=\"800\"/></noscript></p>\n",
       "<p><strong>Hawa Mahal, Jaipur</strong></p>\n",
       "<p>Explore a blend of beauty and Rajasthan culture, the Hawa Mahal also known as Palace of Winds is situated in the capital of Rajasthan, Jaipur. Built from red and pink sandstones by the Maharaja Sawi Pratap Singh in 1799, this unique five storey structure is one of the most prominent tourist attractions in the Jaipur city.</p>\n",
       "<p><img alt=\"hawa-mahal-pd-blog\" class=\"alignnone size-full wp-image-36634 lazyload\" data-src=\"http://www.puredestinations.co.uk/wp-content/uploads/2016/11/HAWA-MAHAL-PD-BLOG.jpg\" data-srcset=\"https://www.puredestinations.co.uk/wp-content/uploads/2016/11/HAWA-MAHAL-PD-BLOG.jpg 800w, https://www.puredestinations.co.uk/wp-content/uploads/2016/11/HAWA-MAHAL-PD-BLOG-768x512.jpg 768w, https://www.puredestinations.co.uk/wp-content/uploads/2016/11/HAWA-MAHAL-PD-BLOG-300x200.jpg 300w\" height=\"533\" sizes=\"(max-width: 800px) 100vw, 800px\" src=\"data:image/gif;base64,R0lGODlhAQABAAAAACH5BAEKAAEALAAAAAABAAEAAAICTAEAOw==\" width=\"800\"/><noscript><img alt=\"hawa-mahal-pd-blog\" class=\"alignnone size-full wp-image-36634\" height=\"533\" sizes=\"(max-width: 800px) 100vw, 800px\" src=\"http://www.puredestinations.co.uk/wp-content/uploads/2016/11/HAWA-MAHAL-PD-BLOG.jpg\" srcset=\"https://www.puredestinations.co.uk/wp-content/uploads/2016/11/HAWA-MAHAL-PD-BLOG.jpg 800w, https://www.puredestinations.co.uk/wp-content/uploads/2016/11/HAWA-MAHAL-PD-BLOG-768x512.jpg 768w, https://www.puredestinations.co.uk/wp-content/uploads/2016/11/HAWA-MAHAL-PD-BLOG-300x200.jpg 300w\" width=\"800\"/></noscript></p>\n",
       "<p><strong>Qutub Minar, New Delhi</strong></p>\n",
       "<p>Discover one of the tallest towers in the world and the second tallest Minar of <a href=\"https://www.puredestinations.co.uk/destinations/asia/india/\" rel=\"noopener\" target=\"_blank\">India</a> standing elegantly in the Capital city, New Delhi. Standing at 72.5 metres and consisting of around 379 stairs, this famous monument represents the rich architecture of India. As it is a UNESCO World Heritage Site made of red sandstone and decorated with Arabic and Brahmi inscriptions, travellers from around the world come to view this most famous tower in India.</p>\n",
       "<p><img alt=\"qutub-minar-pd-blog\" class=\"alignnone size-full wp-image-36636 lazyload\" data-src=\"http://www.puredestinations.co.uk/wp-content/uploads/2016/11/qutub-minar-PD-BLOG.jpg\" data-srcset=\"https://www.puredestinations.co.uk/wp-content/uploads/2016/11/qutub-minar-PD-BLOG.jpg 800w, https://www.puredestinations.co.uk/wp-content/uploads/2016/11/qutub-minar-PD-BLOG-768x512.jpg 768w, https://www.puredestinations.co.uk/wp-content/uploads/2016/11/qutub-minar-PD-BLOG-300x200.jpg 300w\" height=\"533\" sizes=\"(max-width: 800px) 100vw, 800px\" src=\"data:image/gif;base64,R0lGODlhAQABAAAAACH5BAEKAAEALAAAAAABAAEAAAICTAEAOw==\" width=\"800\"/><noscript><img alt=\"qutub-minar-pd-blog\" class=\"alignnone size-full wp-image-36636\" height=\"533\" sizes=\"(max-width: 800px) 100vw, 800px\" src=\"http://www.puredestinations.co.uk/wp-content/uploads/2016/11/qutub-minar-PD-BLOG.jpg\" srcset=\"https://www.puredestinations.co.uk/wp-content/uploads/2016/11/qutub-minar-PD-BLOG.jpg 800w, https://www.puredestinations.co.uk/wp-content/uploads/2016/11/qutub-minar-PD-BLOG-768x512.jpg 768w, https://www.puredestinations.co.uk/wp-content/uploads/2016/11/qutub-minar-PD-BLOG-300x200.jpg 300w\" width=\"800\"/></noscript></p>\n",
       "<p><strong>Sanchi Stupa, Sanchi</strong></p>\n",
       "<p>The beautiful and massive dome, Sanchi Stupa also known as the Great Stupa is a world renowned Buddhist monument in Sanchi, India. It was constructed by Emperor Ashoka, and is one of the oldest stone structures in the heart of India. Experience the Indian culture by visiting these major attractions in Sanchi including a number of Buddhist Stupas, monasteries and temples.</p>\n",
       "<p><img alt=\"sanchi-stupi-pd-blog\" class=\"alignnone size-full wp-image-36637 lazyload\" data-src=\"http://www.puredestinations.co.uk/wp-content/uploads/2016/11/Sanchi-Stupi-PD-BLOG.jpg\" data-srcset=\"https://www.puredestinations.co.uk/wp-content/uploads/2016/11/Sanchi-Stupi-PD-BLOG.jpg 800w, https://www.puredestinations.co.uk/wp-content/uploads/2016/11/Sanchi-Stupi-PD-BLOG-768x512.jpg 768w, https://www.puredestinations.co.uk/wp-content/uploads/2016/11/Sanchi-Stupi-PD-BLOG-300x200.jpg 300w\" height=\"533\" sizes=\"(max-width: 800px) 100vw, 800px\" src=\"data:image/gif;base64,R0lGODlhAQABAAAAACH5BAEKAAEALAAAAAABAAEAAAICTAEAOw==\" width=\"800\"/><noscript><img alt=\"sanchi-stupi-pd-blog\" class=\"alignnone size-full wp-image-36637\" height=\"533\" sizes=\"(max-width: 800px) 100vw, 800px\" src=\"http://www.puredestinations.co.uk/wp-content/uploads/2016/11/Sanchi-Stupi-PD-BLOG.jpg\" srcset=\"https://www.puredestinations.co.uk/wp-content/uploads/2016/11/Sanchi-Stupi-PD-BLOG.jpg 800w, https://www.puredestinations.co.uk/wp-content/uploads/2016/11/Sanchi-Stupi-PD-BLOG-768x512.jpg 768w, https://www.puredestinations.co.uk/wp-content/uploads/2016/11/Sanchi-Stupi-PD-BLOG-300x200.jpg 300w\" width=\"800\"/></noscript></p>\n",
       "<p><strong>Charminar, Hyderabad</strong></p>\n",
       "<p>No visit to Hyderabad should be complete without visiting the most famous and majestic monument known as the Charminar. This magnificent and striking mosque constructed in 1591 has four minarets and is the most recognisable symbol in the city of Hyderabad.</p>\n",
       "<p><img alt=\"charminar-pd-blog\" class=\"alignnone size-full wp-image-36646 lazyload\" data-src=\"http://www.puredestinations.co.uk/wp-content/uploads/2016/11/Charminar-PD-BLOG-1.jpg\" data-srcset=\"https://www.puredestinations.co.uk/wp-content/uploads/2016/11/Charminar-PD-BLOG-1.jpg 800w, https://www.puredestinations.co.uk/wp-content/uploads/2016/11/Charminar-PD-BLOG-1-768x512.jpg 768w, https://www.puredestinations.co.uk/wp-content/uploads/2016/11/Charminar-PD-BLOG-1-300x200.jpg 300w\" height=\"533\" sizes=\"(max-width: 800px) 100vw, 800px\" src=\"data:image/gif;base64,R0lGODlhAQABAAAAACH5BAEKAAEALAAAAAABAAEAAAICTAEAOw==\" width=\"800\"/><noscript><img alt=\"charminar-pd-blog\" class=\"alignnone size-full wp-image-36646\" height=\"533\" sizes=\"(max-width: 800px) 100vw, 800px\" src=\"http://www.puredestinations.co.uk/wp-content/uploads/2016/11/Charminar-PD-BLOG-1.jpg\" srcset=\"https://www.puredestinations.co.uk/wp-content/uploads/2016/11/Charminar-PD-BLOG-1.jpg 800w, https://www.puredestinations.co.uk/wp-content/uploads/2016/11/Charminar-PD-BLOG-1-768x512.jpg 768w, https://www.puredestinations.co.uk/wp-content/uploads/2016/11/Charminar-PD-BLOG-1-300x200.jpg 300w\" width=\"800\"/></noscript></p>\n",
       "<p><strong>Things to know before planning your trip to India</strong></p>\n",
       "<ul>\n",
       "<li>When travelling to India it’s important to make sure you are up-to-date with travel requirements including obtaining an <a href=\"https://e-visa.co.uk/india\" rel=\"noopener\" target=\"_blank\">India visa</a>.</li>\n",
       "<li>It takes around 9 hours and 42 minutes to fly to India from the UK.</li>\n",
       "<li>Bring your credit or debit card, but rely on cash to pay for most things. India’s currency is the Indian Rupee.</li>\n",
       "<li>The best time to visit India is between October and March.</li>\n",
       "</ul>\n",
       "<p>Are you inspired to plan an incredible trip to India? Get in touch with Pure Destinations today to speak to a travel expert to plan a tailor made itinerary. Fancy exploring these famous monuments in <a href=\"https://www.puredestinations.co.uk/destinations/asia/india/\" rel=\"noopener\" target=\"_blank\">India</a>? Why not <a href=\"http://www.puredestinations.co.uk/contact/?dest=quote\" rel=\"noopener\" target=\"_blank\">contact</a> us today!</p>\n",
       "</div>"
      ]
     },
     "execution_count": 38,
     "metadata": {},
     "output_type": "execute_result"
    }
   ],
   "source": [
    "soup = BeautifulSoup(page.content)\n",
    "data=soup.find('div', class_='blog--single__content column--3-4 u-spacing-third')\n",
    "data"
   ]
  },
  {
   "cell_type": "code",
   "execution_count": 39,
   "id": "6b157621",
   "metadata": {},
   "outputs": [],
   "source": [
    "name=[]\n",
    "description=[]\n",
    "img_url=[]"
   ]
  },
  {
   "cell_type": "code",
   "execution_count": 40,
   "id": "6427eb3b",
   "metadata": {},
   "outputs": [
    {
     "ename": "TypeError",
     "evalue": "find() takes no keyword arguments",
     "output_type": "error",
     "traceback": [
      "\u001b[1;31m---------------------------------------------------------------------------\u001b[0m",
      "\u001b[1;31mTypeError\u001b[0m                                 Traceback (most recent call last)",
      "\u001b[1;32m<ipython-input-40-c056d8ea3501>\u001b[0m in \u001b[0;36m<module>\u001b[1;34m\u001b[0m\n\u001b[0;32m      1\u001b[0m \u001b[1;32mfor\u001b[0m \u001b[0mi\u001b[0m \u001b[1;32min\u001b[0m \u001b[0mdata\u001b[0m\u001b[1;33m:\u001b[0m\u001b[1;33m\u001b[0m\u001b[1;33m\u001b[0m\u001b[0m\n\u001b[1;32m----> 2\u001b[1;33m     \u001b[0mname\u001b[0m\u001b[1;33m.\u001b[0m\u001b[0mappend\u001b[0m\u001b[1;33m(\u001b[0m\u001b[0mi\u001b[0m\u001b[1;33m.\u001b[0m\u001b[0mfind\u001b[0m\u001b[1;33m(\u001b[0m\u001b[1;34m'p'\u001b[0m\u001b[1;33m,\u001b[0m \u001b[0mtag\u001b[0m\u001b[1;33m=\u001b[0m\u001b[1;34m'strong'\u001b[0m\u001b[1;33m)\u001b[0m\u001b[1;33m)\u001b[0m\u001b[1;33m\u001b[0m\u001b[1;33m\u001b[0m\u001b[0m\n\u001b[0m\u001b[0;32m      3\u001b[0m \u001b[0mprint\u001b[0m\u001b[1;33m(\u001b[0m\u001b[0mname\u001b[0m\u001b[1;33m)\u001b[0m\u001b[1;33m\u001b[0m\u001b[1;33m\u001b[0m\u001b[0m\n",
      "\u001b[1;31mTypeError\u001b[0m: find() takes no keyword arguments"
     ]
    }
   ],
   "source": [
    "for i in data:\n",
    "    name.append(i.find('p', tag='strong'))\n",
    "print(name)"
   ]
  },
  {
   "cell_type": "code",
   "execution_count": null,
   "id": "3a04baad",
   "metadata": {},
   "outputs": [],
   "source": [
    "#facing Trouble........."
   ]
  }
 ],
 "metadata": {
  "kernelspec": {
   "display_name": "Python 3",
   "language": "python",
   "name": "python3"
  },
  "language_info": {
   "codemirror_mode": {
    "name": "ipython",
    "version": 3
   },
   "file_extension": ".py",
   "mimetype": "text/x-python",
   "name": "python",
   "nbconvert_exporter": "python",
   "pygments_lexer": "ipython3",
   "version": "3.8.8"
  }
 },
 "nbformat": 4,
 "nbformat_minor": 5
}
