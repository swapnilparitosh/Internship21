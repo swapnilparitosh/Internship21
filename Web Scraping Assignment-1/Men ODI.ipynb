{
 "cells": [
  {
   "cell_type": "code",
   "execution_count": null,
   "id": "b752b81e",
   "metadata": {},
   "outputs": [],
   "source": [
    "import requests\n",
    "from bs4 import BeautifulSoup\n"
   ]
  },
  {
   "cell_type": "markdown",
   "id": "1efac5fa",
   "metadata": {},
   "source": [
    "1. Top 10 ODI teams in men’s cricket along with the records for matches, points andrating."
   ]
  },
  {
   "cell_type": "code",
   "execution_count": null,
   "id": "d80d09d9",
   "metadata": {},
   "outputs": [],
   "source": [
    "page=requests.get(\"https://www.icc-cricket.com/rankings/mens/team-rankings/odi\")\n",
    "page"
   ]
  },
  {
   "cell_type": "code",
   "execution_count": null,
   "id": "ec6c6b20",
   "metadata": {},
   "outputs": [],
   "source": [
    "soup = BeautifulSoup(page.content)"
   ]
  },
  {
   "cell_type": "code",
   "execution_count": null,
   "id": "61ac1098",
   "metadata": {},
   "outputs": [],
   "source": [
    "pos=[]\n",
    "team=[]\n",
    "matches=[]\n",
    "points=[]\n",
    "rating=[]"
   ]
  },
  {
   "cell_type": "code",
   "execution_count": null,
   "id": "ba3c6e25",
   "metadata": {},
   "outputs": [],
   "source": [
    "# data = soup.find(\"tr\", class_ = \"rankings-block__banner\")\n",
    "# data"
   ]
  },
  {
   "cell_type": "code",
   "execution_count": null,
   "id": "f225823a",
   "metadata": {},
   "outputs": [],
   "source": [
    "#for 1st position\n",
    "pos.append(soup.find('td', class_='rankings-block__banner--pos').text)\n",
    "print(pos)\n",
    "team.append(soup.find('span', class_ = 'u-hide-phablet').text)\n",
    "print(team)\n",
    "matches.append(soup.find('td', class_='rankings-block__banner--matches').text)\n",
    "print(matches)\n",
    "points.append(soup.find('td',class_=\"rankings-block__banner--points\").text)\n",
    "print(points)\n",
    "rating.append(soup.find('td', class_='rankings-block__banner--rating u-text-right').text.replace('\\n', '').replace(' ',''))\n",
    "print(rating)"
   ]
  },
  {
   "cell_type": "code",
   "execution_count": null,
   "id": "e07ad1c8",
   "metadata": {},
   "outputs": [],
   "source": [
    "# 2nd to 10th position\n",
    "data = soup.findAll(\"tr\", class_ = \"table-body\")\n"
   ]
  },
  {
   "cell_type": "code",
   "execution_count": null,
   "id": "2288af91",
   "metadata": {},
   "outputs": [],
   "source": [
    "for i in data:\n",
    "    pos.append(i.find('td',class_='table-body__cell table-body__cell--position u-text-right').text)\n",
    "    \n",
    "    team.append(i.find('span',class_='u-hide-phablet').text)\n",
    "\n",
    "    matches.append(i.find('td', class_='table-body__cell u-center-text').text)\n",
    "    \n",
    "    points.append(i.find('td',class_=\"table-body__cell u-center-text\").text)\n",
    "    \n",
    "    rating.append(i.find('td', class_=\"table-body__cell u-text-right rating\").text)\n",
    "# print(pos,team,matches,points,rating)\n",
    "    "
   ]
  },
  {
   "cell_type": "code",
   "execution_count": null,
   "id": "5069bd84",
   "metadata": {},
   "outputs": [],
   "source": [
    "import pandas as pd\n",
    "df=pd.DataFrame({\"position\":pos, 'Team/Country':team, 'matches':matches, 'points':points, 'rating':rating})\n",
    "df"
   ]
  },
  {
   "cell_type": "code",
   "execution_count": null,
   "id": "4b804c1f",
   "metadata": {},
   "outputs": [],
   "source": []
  }
 ],
 "metadata": {
  "kernelspec": {
   "display_name": "Python 3",
   "language": "python",
   "name": "python3"
  },
  "language_info": {
   "codemirror_mode": {
    "name": "ipython",
    "version": 3
   },
   "file_extension": ".py",
   "mimetype": "text/x-python",
   "name": "python",
   "nbconvert_exporter": "python",
   "pygments_lexer": "ipython3",
   "version": "3.8.8"
  }
 },
 "nbformat": 4,
 "nbformat_minor": 5
}
